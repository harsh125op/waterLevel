{
 "cells": [
  {
   "cell_type": "code",
   "execution_count": 2,
   "metadata": {},
   "outputs": [],
   "source": [
    "import cv2 \n",
    "import matplotlib.pyplot as plt\n",
    "import numpy as np\n",
    "from PIL import Image\n",
    "from skimage.filters import threshold_otsu\n",
    "import seaborn as sns\n",
    "from skimage.color import rgb2gray\n",
    "from skimage.morphology import convex_hull_image\n",
    "from scipy.spatial import ConvexHull\n",
    "from skimage.measure import label, regionprops\n",
    "from skimage.draw import polygon,rectangle,polygon_perimeter\n",
    "import math\n",
    "import csv\n",
    "import os\n",
    "import pandas as pd"
   ]
  },
  {
   "cell_type": "code",
   "execution_count": 3,
   "metadata": {},
   "outputs": [],
   "source": [
    "path=r\"data_1\\0.jpg\"\n",
    "cropped_path=r\"arbitrary\\x.jpg\""
   ]
  },
  {
   "cell_type": "code",
   "execution_count": 6,
   "metadata": {},
   "outputs": [
    {
     "data": {
      "text/plain": [
       "0.184"
      ]
     },
     "execution_count": 6,
     "metadata": {},
     "output_type": "execute_result"
    }
   ],
   "source": [
    "def Feature_1(image_path):\n",
    "    # Load the image and convert to grayscale\n",
    "    image = Image.open(image_path).convert(\"L\")\n",
    "    image_array = np.array(image)\n",
    "    \n",
    "    # Calculate threshold using Otsu's method\n",
    "    dynamic_threshold = threshold_otsu(image_array)\n",
    "   # print(dynamic_threshold)\n",
    "    \n",
    "    # Cap the threshold at a minimum of 200\n",
    "    threshold = np.mean([dynamic_threshold, 200])\n",
    "\n",
    "    # Compute the histogram of pixel intensities\n",
    "    unique, counts = np.unique(image_array, return_counts=True)\n",
    "    intensity_counts = dict(zip(unique, counts))\n",
    "\n",
    "    # Identify values where the frequency is greater than 1\n",
    "    valid_values = {val for val, freq in intensity_counts.items() if freq > 1}\n",
    "\n",
    "    # Count pixels that are both above the threshold and meet the frequency condition\n",
    "    high_intensity_count = np.sum([pixel in valid_values and pixel >= threshold for pixel in image_array.flatten()])\n",
    "    \n",
    "    # Normalize the count\n",
    "    normalized_count = high_intensity_count / image_array.size\n",
    "    # print(normalized_count)\n",
    "    \n",
    "    # # Plot histogram\n",
    "    # plt.figure(figsize=(8, 5))\n",
    "    # sns.histplot(image_array.flatten(), bins=256, kde=True, color='blue', alpha=0.7)\n",
    "    # plt.axvline(threshold, color='red', linestyle='--', label=f'Threshold: {threshold:.2f}')\n",
    "    # plt.title('Pixel Intensity Distribution')\n",
    "    # plt.xlabel('Pixel Intensity')\n",
    "    # plt.ylabel('Frequency')\n",
    "    # plt.legend()\n",
    "    # plt.show()\n",
    "    \n",
    "    return float(f\"{normalized_count:.4f}\")\n",
    "Feature_1(path)"
   ]
  },
  {
   "cell_type": "code",
   "execution_count": 7,
   "metadata": {},
   "outputs": [
    {
     "data": {
      "text/plain": [
       "106401.598"
      ]
     },
     "execution_count": 7,
     "metadata": {},
     "output_type": "execute_result"
    }
   ],
   "source": [
    "#Frobius Norm on entire Image\n",
    "\n",
    "def Feature_2(image_path):\n",
    "    # Load the image and convert it to grayscale\n",
    "    image = Image.open(image_path).convert(\"L\")\n",
    "    \n",
    "    # Convert the image to a numpy array\n",
    "    image_array = np.array(image)\n",
    "    \n",
    "    # Compute the Frobenius norm\n",
    "    frobenius_norm_value = np.linalg.norm(image_array, 'fro')\n",
    "    \n",
    "    return float(f\"{frobenius_norm_value:.4f}\")\n",
    "\n",
    "Feature_2(path)"
   ]
  },
  {
   "cell_type": "code",
   "execution_count": 8,
   "metadata": {},
   "outputs": [],
   "source": [
    "def draw_line(r1, c1, r2, c2):\n",
    "    \"\"\"\n",
    "    Generate pixel coordinates for a straight line between two points.\n",
    "    \"\"\"\n",
    "    from skimage.draw import line\n",
    "    return line(int(r1), int(c1), int(r2), int(c2))"
   ]
  },
  {
   "cell_type": "code",
   "execution_count": 9,
   "metadata": {},
   "outputs": [],
   "source": [
    "\n",
    "def crop(image_path):\n",
    "    \"\"\"\n",
    "    Applies convex hull processing to the input image, crops the region inside the convex hull,\n",
    "    shows the overlay image and cropped image side by side in subplots, and returns the cropped image.\n",
    "    \n",
    "    Parameters:\n",
    "        image_path (str): Path to the image file.\n",
    "        \n",
    "    Returns:\n",
    "        np.ndarray: Cropped image inside the convex hull.\n",
    "    \"\"\"\n",
    "    cropped_path=r\"arbitrary\\x.jpg\"\n",
    "    \n",
    "    # Load the image\n",
    "    image = np.array(Image.open(image_path))\n",
    "    if image.ndim == 3:  # If it's an RGB image\n",
    "        gray_image = rgb2gray(image)  # Convert to grayscale\n",
    "    else:\n",
    "        gray_image = image  # If already grayscale\n",
    "    \n",
    "    # Binarize the image using Otsu's threshold\n",
    "    threshold = threshold_otsu(gray_image)\n",
    "    binary_image = gray_image >= threshold  # Convert to binary (foreground/background)\n",
    "    \n",
    "    # Label connected components (foreground objects)\n",
    "    labeled_image, num_labels = label(binary_image, connectivity=2, return_num=True)\n",
    "    \n",
    "    # Calculate properties of the labeled regions (connected components)\n",
    "    regions = regionprops(labeled_image)\n",
    "    \n",
    "    # Find the region with the largest area (most significant region)\n",
    "    largest_region = max(regions, key=lambda r: r.area)\n",
    "    \n",
    "    # Get the coordinates of the largest region\n",
    "    largest_region_coords = largest_region.coords\n",
    "    \n",
    "    # Compute the convex hull of the largest region's coordinates\n",
    "    hull = ConvexHull(largest_region_coords)\n",
    "    \n",
    "    # Get the vertices of the convex hull\n",
    "    hull_points = largest_region_coords[hull.vertices]\n",
    "    \n",
    "    # Create a mask from the convex hull\n",
    "    mask = np.zeros_like(binary_image, dtype=bool)\n",
    "    rr, cc = polygon(hull_points[:, 0], hull_points[:, 1], mask.shape)\n",
    "    mask[rr, cc] = True\n",
    "    \n",
    "     # Create a bounding box (4-cornered box) around the convex hull\n",
    "    min_row, min_col = hull_points.min(axis=0)\n",
    "    max_row, max_col = hull_points.max(axis=0)\n",
    "    box_corners = np.array([[min_row, min_col],\n",
    "                            [min_row, max_col],\n",
    "                            [max_row, max_col],\n",
    "                            [max_row, min_col]])\n",
    "    \n",
    "    # Overlay the green box on the original image\n",
    "    overlay_image = image.copy()\n",
    "    if image.ndim == 2:  # Convert grayscale to RGB for visualization\n",
    "        overlay_image = np.stack([overlay_image] * 3, axis=-1)\n",
    "    \n",
    "    # Draw the box\n",
    "    for i in range(len(box_corners)):\n",
    "        start = box_corners[i]\n",
    "        end = box_corners[(i + 1) % len(box_corners)]  # Next corner (wrap around)\n",
    "        rr, cc = draw_line(start[0], start[1], end[0], end[1])\n",
    "        overlay_image[rr, cc] = [0, 255, 0]  # Green color for the box\n",
    "    # Overlay the green box on the original image\n",
    "    overlay_image = image.copy()\n",
    "    if image.ndim == 2:  # Convert grayscale to RGB for visualization\n",
    "        overlay_image = np.stack([overlay_image] * 3, axis=-1)\n",
    "    \n",
    "    # Draw the box\n",
    "    for i in range(len(box_corners)):\n",
    "        start = box_corners[i]\n",
    "        end = box_corners[(i + 1) % len(box_corners)]  # Next corner (wrap around)\n",
    "        rr, cc = draw_line(start[0], start[1], end[0], end[1])\n",
    "        overlay_image[rr, cc] = [0, 255, 0]  # Green color for the box\n",
    "    \n",
    "    # Use the mask to extract the region inside the convex hull\n",
    "    cropped_image = image[int(min_row):int(max_row), int(min_col):int(max_col)]\n",
    "    \n",
    "    # Create subplot with 2 images side by side\n",
    "    # plt.figure(figsize=(12, 6))  # Adjusted figure size for better clarity\n",
    "    \n",
    "    # # Plot the overlay image with convex hull rectangle\n",
    "    # plt.subplot(1, 2, 1)  # (rows, cols, position)\n",
    "    # plt.imshow(overlay_image)\n",
    "    # plt.title('Overlay Image with Convex Hull (Rectangle)')\n",
    "    # plt.axis('off')\n",
    "    \n",
    "    # # Plot the cropped image\n",
    "    # plt.subplot(1, 2, 2)  # (rows, cols, position)\n",
    "    # plt.imshow(cropped_image)\n",
    "    # plt.title('Cropped Image Inside Convex Hull')\n",
    "    # plt.axis('off')\n",
    "    \n",
    "    # # Show the subplots\n",
    "    # plt.tight_layout()\n",
    "    # plt.show()\n",
    "    \n",
    "    # Save the cropped image as a new file\n",
    "    cropped_image_pil = Image.fromarray(cropped_image)\n",
    "    cropped_image_pil.save(cropped_path)\n",
    "    \n",
    "   \n",
    "\n",
    "crop(path)"
   ]
  },
  {
   "cell_type": "code",
   "execution_count": 10,
   "metadata": {},
   "outputs": [
    {
     "data": {
      "text/plain": [
       "103157.1785"
      ]
     },
     "execution_count": 10,
     "metadata": {},
     "output_type": "execute_result"
    }
   ],
   "source": [
    "def Feature_3(path):\n",
    "    crop(path)\n",
    "    return Feature_2(cropped_path)\n",
    "\n",
    "Feature_3(path)\n"
   ]
  },
  {
   "cell_type": "code",
   "execution_count": 11,
   "metadata": {},
   "outputs": [
    {
     "data": {
      "text/plain": [
       "1293.4311"
      ]
     },
     "execution_count": 11,
     "metadata": {},
     "output_type": "execute_result"
    }
   ],
   "source": [
    "def Feature_4():\n",
    "    path = r\"arbitrary\\x.jpg\"  # Path to your image file\n",
    "    \n",
    "    # Open the image and get its dimensions\n",
    "    image = Image.open(path)\n",
    "    width, height = image.size  # width and height of the image\n",
    "    \n",
    "    # Calculate the diagonal length using Pythagorean theorem\n",
    "    diagonal_length = math.sqrt(width**2 + height**2)\n",
    "    \n",
    "    return float(f\"{diagonal_length:.4f}\")\n",
    "Feature_4()\n",
    "# # Example usage\n",
    "# diagonal = Feature_4()\n",
    "# # print(diagonal)"
   ]
  },
  {
   "cell_type": "code",
   "execution_count": 12,
   "metadata": {},
   "outputs": [
    {
     "data": {
      "text/plain": [
       "592"
      ]
     },
     "execution_count": 12,
     "metadata": {},
     "output_type": "execute_result"
    }
   ],
   "source": [
    "def Feature_5():\n",
    "    path = r\"arbitrary\\x.jpg\"  # Path to your image file\n",
    "    \n",
    "    # Open the image and get its dimensions\n",
    "    image = Image.open(path)\n",
    "    width, height = image.size  # width and height of the image\n",
    "    \n",
    "    return width\n",
    "\n",
    "# Example usage\n",
    "# width = Feature_5()\n",
    "# print(width)\n",
    "Feature_5()"
   ]
  },
  {
   "cell_type": "code",
   "execution_count": 13,
   "metadata": {},
   "outputs": [
    {
     "data": {
      "text/plain": [
       "1150"
      ]
     },
     "execution_count": 13,
     "metadata": {},
     "output_type": "execute_result"
    }
   ],
   "source": [
    "def Feature_6():\n",
    "    path = r\"arbitrary\\x.jpg\"  # Path to your image file\n",
    "    \n",
    "    # Open the image and get its dimensions\n",
    "    image = Image.open(path)\n",
    "    width, height = image.size  # width and height of the image\n",
    "    \n",
    "    return height\n",
    "\n",
    "# Example usage\n",
    "# height = Feature_6()\n",
    "# print(height)\n",
    "Feature_6()"
   ]
  },
  {
   "cell_type": "code",
   "execution_count": 14,
   "metadata": {},
   "outputs": [
    {
     "data": {
      "text/plain": [
       "0.7705"
      ]
     },
     "execution_count": 14,
     "metadata": {},
     "output_type": "execute_result"
    }
   ],
   "source": [
    "def Feature_7():\n",
    "    image_path = r\"arbitrary\\x.jpg\"\n",
    "    # Load the image and convert to grayscale\n",
    "    image = Image.open(image_path).convert(\"L\")\n",
    "    image_array = np.array(image)\n",
    "    \n",
    "    # Calculate threshold using Otsu's method\n",
    "    dynamic_threshold = threshold_otsu(image_array)\n",
    "    # print(dynamic_threshold)\n",
    "    \n",
    "    # Cap the threshold at a minimum of 200\n",
    "    threshold = np.mean([dynamic_threshold, 200])\n",
    "\n",
    "    # Compute the histogram of pixel intensities\n",
    "    unique, counts = np.unique(image_array, return_counts=True)\n",
    "    intensity_counts = dict(zip(unique, counts))\n",
    "\n",
    "    # Identify values where the frequency is greater than 1\n",
    "    valid_values = {val for val, freq in intensity_counts.items() if freq > 1}\n",
    "\n",
    "    # Count pixels that are both above the threshold and meet the frequency condition\n",
    "    high_intensity_count = np.sum([pixel in valid_values and pixel <= threshold for pixel in image_array.flatten()])\n",
    "    \n",
    "    # Normalize the count\n",
    "    normalized_count = high_intensity_count / image_array.size\n",
    "    # print(normalized_count)\n",
    "    \n",
    "    # # Plot histogram\n",
    "    # plt.figure(figsize=(8, 5))\n",
    "    # sns.histplot(image_array.flatten(), bins=256, kde=True, color='blue', alpha=0.7)\n",
    "    # plt.axvline(threshold, color='red', linestyle='--', label=f'Threshold: {threshold:.2f}')\n",
    "    # plt.title('Pixel Intensity Distribution')\n",
    "    # plt.xlabel('Pixel Intensity')\n",
    "    # plt.ylabel('Frequency')\n",
    "    # plt.legend()\n",
    "    # plt.show()\n",
    "    \n",
    "    return float(f\"{normalized_count:.4f}\")\n",
    "Feature_7()"
   ]
  },
  {
   "cell_type": "code",
   "execution_count": 15,
   "metadata": {},
   "outputs": [
    {
     "data": {
      "text/plain": [
       "0.2313"
      ]
     },
     "execution_count": 15,
     "metadata": {},
     "output_type": "execute_result"
    }
   ],
   "source": [
    "def Feature_8(image_path):\n",
    "    image = Image.open(image_path).convert(\"L\")\n",
    "    image = np.array(image)\n",
    "    # Define the threshold (127 by default)\n",
    "    threshold = 127\n",
    "\n",
    "    # Calculate the number of black and white family pixels\n",
    "    black_family_pixels = np.sum(image <= threshold)\n",
    "    white_family_pixels = np.sum(image > threshold)\n",
    "    ratio=0.0\n",
    "    # Calculate the ratio\n",
    "    ratio = white_family_pixels / black_family_pixels\n",
    "    # if white_family_pixels == 0:\n",
    "    #     print(\"No white family pixels found. Ratio cannot be calculated.\")\n",
    "    # else:\n",
    "       \n",
    "    #     print(f\"Ratio of black family to white family pixels: {ratio:.2f}\")\n",
    "    return float(f\"{ratio:.4f}\")\n",
    "Feature_8(path)"
   ]
  },
  {
   "cell_type": "code",
   "execution_count": 16,
   "metadata": {},
   "outputs": [
    {
     "data": {
      "text/plain": [
       "[0.184, 106401.598, 103157.1785, 1293.4311, 592, 1150, 0.7705, 0.2313]"
      ]
     },
     "execution_count": 16,
     "metadata": {},
     "output_type": "execute_result"
    }
   ],
   "source": [
    "def Feature(path)->list:\n",
    "    l:list = [Feature_1(path),Feature_2(path),Feature_3(path),Feature_4(),Feature_5(),Feature_6(),Feature_7(),Feature_8(path)]\n",
    "    return l\n",
    "\n",
    "Feature(path)"
   ]
  },
  {
   "cell_type": "code",
   "execution_count": null,
   "metadata": {},
   "outputs": [],
   "source": [
    "output_folder = './data_2'\n",
    "os.makedirs(output_folder, exist_ok=True)\n",
    "\n",
    "# Output CSV file path\n",
    "output_csv = os.path.join(output_folder, 'dataset.csv')\n",
    "\n",
    "# Open the CSV file for writing\n",
    "with open(output_csv, 'w', newline='') as csvfile:\n",
    "    csv_writer = csv.writer(csvfile)\n",
    "\n",
    "    # Write header (optional, adjust as needed)\n",
    "    csv_writer.writerow(['Feature1', 'Feature2', 'Feature3','Feature4', 'Feature5', 'Feature6','Feature7','Feature8'])  # Update with actual feature names\n",
    "\n",
    "    # Loop through the range of image files\n",
    "    for i in range(300):\n",
    "        # Construct the input file path\n",
    "        input_path = f'./data_1/{i}.jpg'\n",
    "\n",
    "        # Check if the file exists\n",
    "        if os.path.exists(input_path):\n",
    "            # Get features from the file\n",
    "            features = Feature(input_path)\n",
    "\n",
    "            # Write the features to the CSV file\n",
    "            csv_writer.writerow(features)\n",
    "        else:\n",
    "            print(f\"File not found: {input_path}\")\n",
    "        print(i)"
   ]
  },
  {
   "cell_type": "code",
   "execution_count": null,
   "metadata": {},
   "outputs": [],
   "source": []
  },
  {
   "cell_type": "markdown",
   "metadata": {},
   "source": [
    "Image Substraction Outputs"
   ]
  },
  {
   "cell_type": "code",
   "execution_count": null,
   "metadata": {},
   "outputs": [],
   "source": [
    "\n",
    "# Paths\n",
    "input_folder = \"data_1\"  # Folder containing input images\n",
    "output_folder = \"data_1_2\"  # Folder to save results\n",
    "\n",
    "# Create output folder if it doesn't exist\n",
    "os.makedirs(output_folder, exist_ok=True)\n",
    "\n",
    "# Get all image files sorted by numeric order\n",
    "image_files = sorted(\n",
    "    [f for f in os.listdir(input_folder) if f.endswith(('.jpg', '.png', '.jpeg'))],\n",
    "    key=lambda x: int(x.split('.')[0])  # Sort numerically by filename\n",
    ")\n",
    "\n",
    "# Sequential image subtraction\n",
    "for i in range(len(image_files) - 1):\n",
    "    # Define paths for current and next images\n",
    "    img1_path = os.path.join(input_folder, image_files[i])\n",
    "    img2_path = os.path.join(input_folder, image_files[i + 1])\n",
    "\n",
    "    # Load the images in grayscale\n",
    "    img1 = cv2.imread(img1_path, cv2.IMREAD_GRAYSCALE)\n",
    "    img2 = cv2.imread(img2_path, cv2.IMREAD_GRAYSCALE)\n",
    "\n",
    "    # Perform absolute difference\n",
    "    diff = cv2.absdiff(img1, img2)\n",
    "\n",
    "    # Save the result\n",
    "    output_filename = f\"diff_{image_files[i].split('.')[0]}_{image_files[i+1].split('.')[0]}.jpg\"\n",
    "    output_path = os.path.join(output_folder, output_filename)\n",
    "    cv2.imwrite(output_path, diff)\n",
    "\n",
    "    print(f\"Saved: {output_path}\")\n",
    "\n",
    "print(\"Sequential image subtraction completed. Results saved in:\", output_folder)"
   ]
  },
  {
   "attachments": {
    "image.png": {
     "image/png": "[encoded data removed]"
    }
   },
   "cell_type": "markdown",
   "metadata": {},
   "source": [
    "Feature 9 - Pixel rate Change\n",
    "\n",
    "\\\\\n",
    "![image.png](attachment:image.png)"
   ]
  },
  {
   "cell_type": "code",
   "execution_count": null,
   "metadata": {},
   "outputs": [],
   "source": [
    "# Paths\n",
    "input_folder = \"data_1\"  # Folder containing input images\n",
    "\n",
    "# Get all image files sorted by numeric order\n",
    "image_files = sorted(\n",
    "    [f for f in os.listdir(input_folder) if f.endswith(('.jpg', '.png', '.jpeg'))],\n",
    "    key=lambda x: int(x.split('.')[0])  # Sort numerically by filename\n",
    ")\n",
    "\n",
    "# Initialize list to store pixel rate changes\n",
    "pixel_rate_changes = []\n",
    "\n",
    "# Sequential image subtraction\n",
    "for i in range(len(image_files) - 1):\n",
    "    # Read current and next images\n",
    "    img1_path = os.path.join(input_folder, image_files[i])\n",
    "    img2_path = os.path.join(input_folder, image_files[i + 1])\n",
    "\n",
    "    img1 = cv2.imread(img1_path, cv2.IMREAD_GRAYSCALE)\n",
    "    img2 = cv2.imread(img2_path, cv2.IMREAD_GRAYSCALE)\n",
    "\n",
    "    # Calculate absolute difference\n",
    "    diff = cv2.absdiff(img1, img2)\n",
    "\n",
    "    # Calculate the average pixel intensity difference (Pixel Rate Change)\n",
    "    prc = float(np.mean(diff))\n",
    "    pixel_rate_changes.append(prc)\n",
    "\n",
    "    # print(f\"PRC for {image_files[i]} - {image_files[i + 1]}: {prc}\")\n",
    "\n",
    "# Plot the results\n",
    "plt.plot(range(1, len(pixel_rate_changes) + 1), pixel_rate_changes, marker='o')\n",
    "plt.xlabel(\"Image Pair Index\")\n",
    "plt.ylabel(\"Pixel Rate Change (Average Difference)\")\n",
    "plt.title(\"Pixel Rate Change Over Image Sequence\")\n",
    "plt.show()"
   ]
  },
  {
   "cell_type": "markdown",
   "metadata": {},
   "source": [
    "Append the List pixel_rate_changes in dataset as feature 9"
   ]
  },
  {
   "cell_type": "code",
   "execution_count": null,
   "metadata": {},
   "outputs": [],
   "source": [
    "# Load your existing dataset\n",
    "df = pd.read_csv(\"your_dataset.csv\")  # Replace with your dataset's path\n",
    "\n",
    "# Ensure the lengths match\n",
    "if len(pixel_rate_changes) != len(df):\n",
    "    raise ValueError(\"The length of pixel_rate_changes must match the number of rows in the dataset.\")\n",
    "\n",
    "# Add the Feature9 column\n",
    "df['Feature9'] = pixel_rate_changes"
   ]
  },
  {
   "cell_type": "code",
   "execution_count": null,
   "metadata": {},
   "outputs": [],
   "source": [
    "df.head()"
   ]
  },
  {
   "cell_type": "code",
   "execution_count": null,
   "metadata": {},
   "outputs": [],
   "source": [
    "# Save the updated dataset back to a file\n",
    "df.to_csv(\"updated_dataset.csv\", index=False)"
   ]
  }
 ],
 "metadata": {
  "kernelspec": {
   "display_name": ".venv",
   "language": "python",
   "name": "python3"
  },
  "language_info": {
   "codemirror_mode": {
    "name": "ipython",
    "version": 3
   },
   "file_extension": ".py",
   "mimetype": "text/x-python",
   "name": "python",
   "nbconvert_exporter": "python",
   "pygments_lexer": "ipython3",
   "version": "3.12.8"
  }
 },
 "nbformat": 4,
 "nbformat_minor": 2
}
