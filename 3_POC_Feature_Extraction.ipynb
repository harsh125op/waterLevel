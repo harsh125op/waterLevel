{
 "cells": [
  {
   "cell_type": "code",
   "execution_count": 1,
   "metadata": {},
   "outputs": [],
   "source": [
    "import cv2 \n",
    "import matplotlib.pyplot as plt\n",
    "import numpy as np"
   ]
  },
  {
   "cell_type": "code",
   "execution_count": 4,
   "metadata": {},
   "outputs": [],
   "source": [
    "def Feature1(image_path):\n",
    "    \"\"\"This function calculates the number of white pixels present in the image \"\"\"\n",
    "    image = cv2.imread(image_path)\n",
    "    if image is None:\n",
    "        raise FileNotFoundError(f\"Image not found at {image_path}\")\n",
    "    histogram = cv2.calcHist([image], [0], None, [256], [0, 256])\n",
    "    plt.plot(histogram)\n",
    "    threshold =200\n",
    "    white_px = int(np.sum(histogram[threshold + 1:]))\n",
    "    return f\"{white_px/image.size:.4f}\"\n",
    "    \n",
    "    "
   ]
  },
  {
   "cell_type": "code",
   "execution_count": 5,
   "metadata": {},
   "outputs": [],
   "source": [
    "def Feature2(image_mat):\n",
    "    frobenius_norm = np.linalg.norm(image_mat, 'fro')\n",
    "    \n",
    "    if frobenius_norm == 0:\n",
    "        raise ValueError(\"The Frobenius norm is zero, cannot normalize.\")\n",
    "    \n",
    "    # Normalize the image array by the Frobenius norm\n",
    "    normalized_image = image_mat / frobenius_norm\n",
    "    \n",
    "    return normalized_image\n",
    "    "
   ]
  },
  {
   "cell_type": "code",
   "execution_count": 6,
   "metadata": {},
   "outputs": [],
   "source": [
    "def image_to_2d_array(image_path):\n",
    "   \n",
    "    # Read the image in grayscale\n",
    "    image = cv2.imread(image_path, cv2.IMREAD_GRAYSCALE)\n",
    "    \n",
    "    if image is None:\n",
    "        raise FileNotFoundError(f\"Image not found at {image_path}\")\n",
    "    mat = image\n",
    "    return mat\n"
   ]
  },
  {
   "cell_type": "code",
   "execution_count": 9,
   "metadata": {},
   "outputs": [],
   "source": [
    "def Feature3(image_path, lower_threshold=50, upper_threshold=200):\n",
    "    image = cv2.imread(image_path, cv2.IMREAD_GRAYSCALE)\n",
    "    \n",
    "    if image is None:\n",
    "        raise FileNotFoundError(f\"Image not found at {image_path}\")\n",
    "    \n",
    "    # Create a mask for high-contrast regions (intensity outside the threshold range)\n",
    "    high_contrast_mask = (image < lower_threshold) | (image > upper_threshold)\n",
    "    \n",
    "    # Extract the high-contrast region as a submatrix\n",
    "    high_contrast_region = image[high_contrast_mask]\n",
    "    \n",
    "    if high_contrast_region.size == 0:\n",
    "        raise ValueError(\"No high-contrast regions detected in the image.\")\n",
    "    \n",
    "    # Compute the Frobenius norm for the high-contrast region\n",
    "    frobenius_norm = np.linalg.norm(high_contrast_region, ord=2)\n",
    "    \n",
    "    if frobenius_norm == 0:\n",
    "        raise ValueError(\"The Frobenius norm is zero, cannot normalize.\")\n",
    "    \n",
    "    # Normalize the high-contrast region\n",
    "    normalized_region = high_contrast_region / frobenius_norm\n",
    "    \n",
    "    # Update the high-contrast regions in the original image with normalized values\n",
    "    normalized_image = image.astype(float)  # Convert to float for normalization\n",
    "    normalized_image[high_contrast_mask] = normalized_region\n",
    "    \n",
    "    return normalized_image\n",
    "    "
   ]
  },
  {
   "cell_type": "code",
   "execution_count": 10,
   "metadata": {},
   "outputs": [
    {
     "name": "stdout",
     "output_type": "stream",
     "text": [
      "0.0484\n",
      "<class 'numpy.ndarray'>\n",
      "[[0. 0. 0. ... 0. 0. 0.]\n",
      " [0. 0. 0. ... 0. 0. 0.]\n",
      " [0. 0. 0. ... 0. 0. 0.]\n",
      " ...\n",
      " [0. 0. 0. ... 0. 0. 0.]\n",
      " [0. 0. 0. ... 0. 0. 0.]\n",
      " [0. 0. 0. ... 0. 0. 0.]]\n",
      "[[0. 0. 0. ... 0. 0. 0.]\n",
      " [0. 0. 0. ... 0. 0. 0.]\n",
      " [0. 0. 0. ... 0. 0. 0.]\n",
      " ...\n",
      " [0. 0. 0. ... 0. 0. 0.]\n",
      " [0. 0. 0. ... 0. 0. 0.]\n",
      " [0. 0. 0. ... 0. 0. 0.]]\n"
     ]
    },
    {
     "data": {
      "image/png": "[encoded data removed]",
      "text/plain": [
       "<Figure size 640x480 with 1 Axes>"
      ]
     },
     "metadata": {},
     "output_type": "display_data"
    }
   ],
   "source": [
    "print(Feature1(r\"D:\\paper\\waterLevel\\data_1\\299.jpg\"))\n",
    "image_mat = image_to_2d_array(r\"D:\\paper\\waterLevel\\data_1\\299.jpg\")\n",
    "print(type(image_mat))\n",
    "print(Feature2(image_mat))\n",
    "print(Feature3(r\"D:\\paper\\waterLevel\\data_1\\299.jpg\"))"
   ]
  },
  {
   "cell_type": "code",
   "execution_count": null,
   "metadata": {},
   "outputs": [],
   "source": []
  }
 ],
 "metadata": {
  "kernelspec": {
   "display_name": "Ml_learning_env",
   "language": "python",
   "name": "python3"
  },
  "language_info": {
   "codemirror_mode": {
    "name": "ipython",
    "version": 3
   },
   "file_extension": ".py",
   "mimetype": "text/x-python",
   "name": "python",
   "nbconvert_exporter": "python",
   "pygments_lexer": "ipython3",
   "version": "3.12.4"
  }
 },
 "nbformat": 4,
 "nbformat_minor": 2
}
